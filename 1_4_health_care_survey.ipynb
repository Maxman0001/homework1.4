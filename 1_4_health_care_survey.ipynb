{
 "cells": [
  {
   "cell_type": "code",
   "execution_count": 11,
   "id": "35ba4434-6f56-4008-b388-dbb9a1d2be6a",
   "metadata": {},
   "outputs": [],
   "source": [
    "import polars as pl"
   ]
  },
  {
   "cell_type": "markdown",
   "id": "60887d35-6168-4b46-b1d8-077856f351f4",
   "metadata": {},
   "source": [
    "# Why use relative addresses?\n",
    "\n",
    "In this notebook, we will illustrate \n",
    "\n",
    "1. That relative addresses for loading data files works, but\n",
    "2. Using absolute addresses for loading data files *will not*."
   ]
  },
  {
   "cell_type": "markdown",
   "id": "9e71dd7c-a5df-49da-af06-279adb78ab7a",
   "metadata": {},
   "source": [
    "## Problem 1 - Load the `lat_long_example.csv` file using a relative address.\n",
    "\n",
    "**Tasks.**\n",
    "1. Open a terminal, start `nu`, and navigate to the root menu of your first/primary data repository,\n",
    "2. Use `ls **/*` to get the relative address of `lat_long_example.csv`, and\n",
    "3. Use `polars` to load and inspect these data using this relative path."
   ]
  },
  {
   "cell_type": "code",
   "execution_count": 12,
   "id": "449783a9-db7e-4d92-b45a-2ba0088916bd",
   "metadata": {},
   "outputs": [],
   "source": [
    "relative_path = \"./data/lat_long_examples.csv\""
   ]
  },
  {
   "cell_type": "code",
   "execution_count": 13,
   "id": "79d2bdb3-4125-4027-9110-387b75cbfe6d",
   "metadata": {},
   "outputs": [
    {
     "data": {
      "text/html": [
       "<div><style>\n",
       ".dataframe > thead > tr,\n",
       ".dataframe > tbody > tr {\n",
       "  text-align: right;\n",
       "  white-space: pre-wrap;\n",
       "}\n",
       "</style>\n",
       "<small>shape: (2, 7)</small><table border=\"1\" class=\"dataframe\"><thead><tr><th>City 1</th><th>Lat 1</th><th>Long 1</th><th>City 2</th><th>Lat 2</th><th>Long 2</th><th>Distance from Web (km)</th></tr><tr><td>str</td><td>f64</td><td>f64</td><td>str</td><td>f64</td><td>f64</td><td>f64</td></tr></thead><tbody><tr><td>&quot;Winona, MN&quot;</td><td>44.050556</td><td>-91.66833</td><td>&quot;Ames, IA&quot;</td><td>42.018056</td><td>-93.62</td><td>276.48</td></tr><tr><td>&quot;Glagow, Scotland, UK&quot;</td><td>55.861111</td><td>-4.25</td><td>&quot;Ames, IA&quot;</td><td>42.018056</td><td>-93.62</td><td>6237.63</td></tr></tbody></table></div>"
      ],
      "text/plain": [
       "shape: (2, 7)\n",
       "┌──────────────────────┬───────────┬───────────┬──────────┬───────────┬────────┬────────────────────────┐\n",
       "│ City 1               ┆ Lat 1     ┆ Long 1    ┆ City 2   ┆ Lat 2     ┆ Long 2 ┆ Distance from Web (km) │\n",
       "│ ---                  ┆ ---       ┆ ---       ┆ ---      ┆ ---       ┆ ---    ┆ ---                    │\n",
       "│ str                  ┆ f64       ┆ f64       ┆ str      ┆ f64       ┆ f64    ┆ f64                    │\n",
       "╞══════════════════════╪═══════════╪═══════════╪══════════╪═══════════╪════════╪════════════════════════╡\n",
       "│ Winona, MN           ┆ 44.050556 ┆ -91.66833 ┆ Ames, IA ┆ 42.018056 ┆ -93.62 ┆ 276.48                 │\n",
       "│ Glagow, Scotland, UK ┆ 55.861111 ┆ -4.25     ┆ Ames, IA ┆ 42.018056 ┆ -93.62 ┆ 6237.63                │\n",
       "└──────────────────────┴───────────┴───────────┴──────────┴───────────┴────────┴────────────────────────┘"
      ]
     },
     "execution_count": 13,
     "metadata": {},
     "output_type": "execute_result"
    }
   ],
   "source": [
    "(lat_lng_example :=\n",
    " pl.read_csv(relative_path)\n",
    ")"
   ]
  },
  {
   "cell_type": "markdown",
   "id": "a173049f-b638-426f-adb3-0a9a13251ccb",
   "metadata": {},
   "source": [
    "## Problem 2 - Load the `lat_long_example.csv` file using a absolute address.\n",
    "\n",
    "**Tasks.**\n",
    "1. Open a terminal, start `nu`, and navigate to the root menu of *one of your first/primary data repository,\n",
    "2. Use `glob **/*` to get the absolute address of `lat_long_example.csv`, and\n",
    "3. Use `polars` to load and inspect these data."
   ]
  },
  {
   "cell_type": "code",
   "execution_count": 19,
   "id": "68846b35-bf00-43ee-8de9-893a70a2c389",
   "metadata": {},
   "outputs": [
    {
     "ename": "SyntaxError",
     "evalue": "(unicode error) 'unicodeescape' codec can't decode bytes in position 2-3: truncated \\UXXXXXXXX escape (940589828.py, line 1)",
     "output_type": "error",
     "traceback": [
      "  \u001b[36mCell\u001b[39m\u001b[36m \u001b[39m\u001b[32mIn[19]\u001b[39m\u001b[32m, line 1\u001b[39m\n\u001b[31m    \u001b[39m\u001b[31mabsolute_path = \"C:\\Users\\im4284hw\\DSCI_326\\homework1.4\\data\\lat_long_examples.csv\"\u001b[39m\n                    ^\n\u001b[31mSyntaxError\u001b[39m\u001b[31m:\u001b[39m (unicode error) 'unicodeescape' codec can't decode bytes in position 2-3: truncated \\UXXXXXXXX escape\n"
     ]
    }
   ],
   "source": [
    "absolute_path = \"C:\\Users\\im4284hw\\DSCI_326\\homework1.4\\data\\lat_long_examples.csv\""
   ]
  },
  {
   "cell_type": "code",
   "execution_count": 20,
   "id": "92fc5bf7-f898-4ac6-934a-c5fc8e23d365",
   "metadata": {},
   "outputs": [
    {
     "data": {
      "text/html": [
       "<div><style>\n",
       ".dataframe > thead > tr,\n",
       ".dataframe > tbody > tr {\n",
       "  text-align: right;\n",
       "  white-space: pre-wrap;\n",
       "}\n",
       "</style>\n",
       "<small>shape: (2, 7)</small><table border=\"1\" class=\"dataframe\"><thead><tr><th>City 1</th><th>Lat 1</th><th>Long 1</th><th>City 2</th><th>Lat 2</th><th>Long 2</th><th>Distance from Web (km)</th></tr><tr><td>str</td><td>f64</td><td>f64</td><td>str</td><td>f64</td><td>f64</td><td>f64</td></tr></thead><tbody><tr><td>&quot;Winona, MN&quot;</td><td>44.050556</td><td>-91.66833</td><td>&quot;Ames, IA&quot;</td><td>42.018056</td><td>-93.62</td><td>276.48</td></tr><tr><td>&quot;Glagow, Scotland, UK&quot;</td><td>55.861111</td><td>-4.25</td><td>&quot;Ames, IA&quot;</td><td>42.018056</td><td>-93.62</td><td>6237.63</td></tr></tbody></table></div>"
      ],
      "text/plain": [
       "shape: (2, 7)\n",
       "┌──────────────────────┬───────────┬───────────┬──────────┬───────────┬────────┬────────────────────────┐\n",
       "│ City 1               ┆ Lat 1     ┆ Long 1    ┆ City 2   ┆ Lat 2     ┆ Long 2 ┆ Distance from Web (km) │\n",
       "│ ---                  ┆ ---       ┆ ---       ┆ ---      ┆ ---       ┆ ---    ┆ ---                    │\n",
       "│ str                  ┆ f64       ┆ f64       ┆ str      ┆ f64       ┆ f64    ┆ f64                    │\n",
       "╞══════════════════════╪═══════════╪═══════════╪══════════╪═══════════╪════════╪════════════════════════╡\n",
       "│ Winona, MN           ┆ 44.050556 ┆ -91.66833 ┆ Ames, IA ┆ 42.018056 ┆ -93.62 ┆ 276.48                 │\n",
       "│ Glagow, Scotland, UK ┆ 55.861111 ┆ -4.25     ┆ Ames, IA ┆ 42.018056 ┆ -93.62 ┆ 6237.63                │\n",
       "└──────────────────────┴───────────┴───────────┴──────────┴───────────┴────────┴────────────────────────┘"
      ]
     },
     "execution_count": 20,
     "metadata": {},
     "output_type": "execute_result"
    }
   ],
   "source": [
    "(lat_lng_example :=\n",
    " pl.read_csv(relative_path)\n",
    ")"
   ]
  },
  {
   "cell_type": "code",
   "execution_count": 21,
   "id": "bcb0b325-4aad-45a8-a6fa-54fc8b846bac",
   "metadata": {},
   "outputs": [],
   "source": [
    "# Question_from_video\n",
    "# Why we use relative?\n",
    "# Ans: We use relative because a relative path is same for everyone but the absulute path is different for everyone accourding to their computer."
   ]
  },
  {
   "cell_type": "markdown",
   "id": "3f658194-ada1-4a12-bca0-2dfda1e00eeb",
   "metadata": {},
   "source": [
    "## Illustrating the problem with absolute addresses\n",
    "\n",
    "While the relative address in problem 1 points to the data IN THIS COPY of the repo, the absolute address points to the data in EXACTLY one of the copies of the repository. This becomes a problem if (A) anything changes in that repository, or (B) we are working on a different machine.\n",
    "\n",
    "**Tasks.** To illustrate why this is a problem, do the following.\n",
    "\n",
    "1. From your first/primary repository commit and push this notebook to GitHub,\n",
    "2. Fetch and pull this notebook to another local copy of the repository,\n",
    "3. In your file explorer (Files or Finder), move your first/primary repository into another folder, e.g., make a new folder and drag-and-drop the repo.\n",
    "4. Rerun the cells in each local copy of the repository and document your findings in the WORD document. "
   ]
  },
  {
   "cell_type": "code",
   "execution_count": 22,
   "id": "c6d18824-0f54-4d2c-ba0e-d0b5c71cfe22",
   "metadata": {},
   "outputs": [
    {
     "data": {
      "text/html": [
       "<div><style>\n",
       ".dataframe > thead > tr,\n",
       ".dataframe > tbody > tr {\n",
       "  text-align: right;\n",
       "  white-space: pre-wrap;\n",
       "}\n",
       "</style>\n",
       "<small>shape: (5, 45)</small><table border=\"1\" class=\"dataframe\"><thead><tr><th></th><th>F1</th><th>F5</th><th>F2</th><th>F1.1</th><th>F2.1</th><th>F6</th><th>F4</th><th>F3</th><th>F5.1</th><th>F1.2</th><th>F2.2</th><th>F6.1</th><th>F2.3</th><th>F4.1</th><th>F2.4</th><th>F5.2</th><th>F2.5</th><th>F6.2</th><th>F1.3</th><th>F2.6</th><th>F5.3</th><th>F4.2</th><th>F2.7</th><th>F3.1</th><th>F2.8</th><th>F5.4</th><th>F3.2</th><th>F1.4</th><th>F3.3</th><th>F1.5</th><th>F5.5</th><th>F6.3</th><th>F1.6</th><th>F5.6</th><th>F2.9</th><th>F3.4</th><th>F4.3</th><th>F2.10</th><th>F1.7</th><th>F6.4</th><th>F4.4</th><th>F5.7</th><th>F3.5</th><th>F2.11</th></tr><tr><td>i64</td><td>str</td><td>str</td><td>str</td><td>str</td><td>str</td><td>str</td><td>str</td><td>str</td><td>str</td><td>str</td><td>str</td><td>str</td><td>str</td><td>str</td><td>str</td><td>str</td><td>str</td><td>str</td><td>str</td><td>str</td><td>str</td><td>str</td><td>str</td><td>str</td><td>str</td><td>str</td><td>str</td><td>str</td><td>str</td><td>str</td><td>str</td><td>str</td><td>str</td><td>str</td><td>str</td><td>str</td><td>str</td><td>str</td><td>str</td><td>str</td><td>str</td><td>str</td><td>str</td><td>str</td></tr></thead><tbody><tr><td>1</td><td>&quot;Somewhat Agree&quot;</td><td>&quot;Somewhat Disagree&quot;</td><td>&quot;Somewhat Agree&quot;</td><td>&quot;Somewhat Agree&quot;</td><td>&quot;Somewhat Agree&quot;</td><td>&quot;Somewhat Disagree&quot;</td><td>&quot;Somewhat Agree&quot;</td><td>&quot;Somewhat Agree&quot;</td><td>&quot;Somewhat Agree&quot;</td><td>&quot;Somewhat Agree&quot;</td><td>&quot;Somewhat Agree&quot;</td><td>&quot;Somewhat Agree&quot;</td><td>&quot;Somewhat Agree&quot;</td><td>&quot;Somewhat Agree&quot;</td><td>&quot;Somewhat Agree&quot;</td><td>&quot;Somewhat Agree&quot;</td><td>&quot;Somewhat Agree&quot;</td><td>&quot;Somewhat Agree&quot;</td><td>&quot;Somewhat Agree&quot;</td><td>&quot;Somewhat Agree&quot;</td><td>&quot;Somewhat Agree&quot;</td><td>&quot;Somewhat Agree&quot;</td><td>&quot;Somewhat Agree&quot;</td><td>&quot;Somewhat Disagree&quot;</td><td>&quot;Somewhat Agree&quot;</td><td>&quot;Somewhat Agree&quot;</td><td>&quot;Somewhat Agree&quot;</td><td>&quot;Neither Agree nor Disagree&quot;</td><td>&quot;Somewhat Agree&quot;</td><td>&quot;Somewhat Agree&quot;</td><td>&quot;Somewhat Disagree&quot;</td><td>&quot;Somewhat Disagree&quot;</td><td>&quot;Somewhat Agree&quot;</td><td>&quot;Somewhat Agree&quot;</td><td>&quot;Somewhat Agree&quot;</td><td>&quot;Somewhat Disagree&quot;</td><td>&quot;Neither Agree nor Disagree&quot;</td><td>&quot;Somewhat Agree&quot;</td><td>&quot;Somewhat Agree&quot;</td><td>&quot;Somewhat Agree&quot;</td><td>&quot;Somewhat Agree&quot;</td><td>&quot;Somewhat Agree&quot;</td><td>&quot;Somewhat Agree&quot;</td><td>&quot;Somewhat Agree&quot;</td></tr><tr><td>2</td><td>&quot;Somewhat Agree&quot;</td><td>&quot;Somewhat Disagree&quot;</td><td>&quot;Somewhat Agree&quot;</td><td>&quot;Somewhat Agree&quot;</td><td>&quot;Somewhat Agree&quot;</td><td>&quot;Somewhat Disagree&quot;</td><td>&quot;Somewhat Agree&quot;</td><td>&quot;Neither Agree nor Disagree&quot;</td><td>&quot;Neither Agree nor Disagree&quot;</td><td>&quot;Somewhat Agree&quot;</td><td>&quot;Neither Agree nor Disagree&quot;</td><td>&quot;Somewhat Agree&quot;</td><td>&quot;Somewhat Agree&quot;</td><td>&quot;Neither Agree nor Disagree&quot;</td><td>&quot;Somewhat Agree&quot;</td><td>&quot;Somewhat Agree&quot;</td><td>&quot;Somewhat Agree&quot;</td><td>&quot;Somewhat Agree&quot;</td><td>&quot;Somewhat Agree&quot;</td><td>&quot;Somewhat Agree&quot;</td><td>&quot;Somewhat Agree&quot;</td><td>&quot;Somewhat Agree&quot;</td><td>&quot;Somewhat Agree&quot;</td><td>&quot;Neither Agree nor Disagree&quot;</td><td>&quot;Somewhat Agree&quot;</td><td>&quot;Neither Agree nor Disagree&quot;</td><td>&quot;Neither Agree nor Disagree&quot;</td><td>&quot;Somewhat Agree&quot;</td><td>&quot;Neither Agree nor Disagree&quot;</td><td>&quot;Neither Agree nor Disagree&quot;</td><td>&quot;Neither Agree nor Disagree&quot;</td><td>&quot;Somewhat Disagree&quot;</td><td>&quot;Somewhat Agree&quot;</td><td>&quot;Somewhat Disagree&quot;</td><td>&quot;Somewhat Agree&quot;</td><td>&quot;Somewhat Agree&quot;</td><td>&quot;Neither Agree nor Disagree&quot;</td><td>&quot;Somewhat Agree&quot;</td><td>&quot;Somewhat Agree&quot;</td><td>&quot;Somewhat Disagree&quot;</td><td>&quot;Neither Agree nor Disagree&quot;</td><td>&quot;Somewhat Agree&quot;</td><td>&quot;Neither Agree nor Disagree&quot;</td><td>&quot;Somewhat Agree&quot;</td></tr><tr><td>3</td><td>&quot;Strongly Agree&quot;</td><td>&quot;Neither Agree nor Disagree&quot;</td><td>&quot;Somewhat Agree&quot;</td><td>&quot;Strongly Agree&quot;</td><td>&quot;Strongly Agree&quot;</td><td>&quot;Somewhat Disagree&quot;</td><td>&quot;Somewhat Agree&quot;</td><td>&quot;Somewhat Agree&quot;</td><td>&quot;Somewhat Agree&quot;</td><td>&quot;Strongly Agree&quot;</td><td>&quot;Somewhat Agree&quot;</td><td>&quot;Neither Agree nor Disagree&quot;</td><td>&quot;Somewhat Agree&quot;</td><td>&quot;Neither Agree nor Disagree&quot;</td><td>&quot;Somewhat Agree&quot;</td><td>&quot;Somewhat Disagree&quot;</td><td>&quot;Strongly Agree&quot;</td><td>&quot;Somewhat Agree&quot;</td><td>&quot;Strongly Agree&quot;</td><td>&quot;Somewhat Agree&quot;</td><td>&quot;Somewhat Agree&quot;</td><td>&quot;Somewhat Agree&quot;</td><td>&quot;&quot;</td><td>&quot;Somewhat Disagree&quot;</td><td>&quot;Somewhat Agree&quot;</td><td>&quot;Somewhat Agree&quot;</td><td>&quot;Somewhat Agree&quot;</td><td>&quot;Somewhat Disagree&quot;</td><td>&quot;Somewhat Agree&quot;</td><td>&quot;Strongly Agree&quot;</td><td>&quot;Somewhat Disagree&quot;</td><td>&quot;Somewhat Disagree&quot;</td><td>&quot;Strongly Agree&quot;</td><td>&quot;Somewhat Disagree&quot;</td><td>&quot;Somewhat Agree&quot;</td><td>&quot;Somewhat Agree&quot;</td><td>&quot;Neither Agree nor Disagree&quot;</td><td>&quot;Somewhat Agree&quot;</td><td>&quot;Somewhat Agree&quot;</td><td>&quot;Somewhat Agree&quot;</td><td>&quot;Somewhat Agree&quot;</td><td>&quot;Strongly Agree&quot;</td><td>&quot;Strongly Disagree&quot;</td><td>&quot;Somewhat Agree&quot;</td></tr><tr><td>4</td><td>&quot;Somewhat Agree&quot;</td><td>&quot;Somewhat Agree&quot;</td><td>&quot;Strongly Agree&quot;</td><td>&quot;Somewhat Agree&quot;</td><td>&quot;Strongly Agree&quot;</td><td>&quot;Neither Agree nor Disagree&quot;</td><td>&quot;Neither Agree nor Disagree&quot;</td><td>&quot;Somewhat Disagree&quot;</td><td>&quot;Somewhat Agree&quot;</td><td>&quot;Strongly Agree&quot;</td><td>&quot;Strongly Agree&quot;</td><td>&quot;Somewhat Agree&quot;</td><td>&quot;Somewhat Agree&quot;</td><td>&quot;Neither Agree nor Disagree&quot;</td><td>&quot;Strongly Agree&quot;</td><td>&quot;Somewhat Disagree&quot;</td><td>&quot;Strongly Agree&quot;</td><td>&quot;Somewhat Agree&quot;</td><td>&quot;Somewhat Agree&quot;</td><td>&quot;Strongly Agree&quot;</td><td>&quot;Somewhat Agree&quot;</td><td>&quot;Somewhat Agree&quot;</td><td>&quot;Somewhat Agree&quot;</td><td>&quot;Somewhat Disagree&quot;</td><td>&quot;Somewhat Agree&quot;</td><td>&quot;Somewhat Agree&quot;</td><td>&quot;Somewhat Disagree&quot;</td><td>&quot;Neither Agree nor Disagree&quot;</td><td>&quot;Somewhat Disagree&quot;</td><td>&quot;Somewhat Agree&quot;</td><td>&quot;Somewhat Disagree&quot;</td><td>&quot;Somewhat Agree&quot;</td><td>&quot;Strongly Agree&quot;</td><td>&quot;Somewhat Disagree&quot;</td><td>&quot;Somewhat Agree&quot;</td><td>&quot;Somewhat Disagree&quot;</td><td>&quot;Somewhat Agree&quot;</td><td>&quot;Somewhat Agree&quot;</td><td>&quot;Neither Agree nor Disagree&quot;</td><td>&quot;Neither Agree nor Disagree&quot;</td><td>&quot;Neither Agree nor Disagree&quot;</td><td>&quot;Somewhat Agree&quot;</td><td>&quot;Somewhat Disagree&quot;</td><td>&quot;Somewhat Agree&quot;</td></tr><tr><td>5</td><td>&quot;Strongly Agree&quot;</td><td>&quot;Strongly Disagree&quot;</td><td>&quot;Neither Agree nor Disagree&quot;</td><td>&quot;Strongly Agree&quot;</td><td>&quot;Somewhat Agree&quot;</td><td>&quot;Strongly Disagree&quot;</td><td>&quot;Strongly Agree&quot;</td><td>&quot;Somewhat Agree&quot;</td><td>&quot;Neither Agree nor Disagree&quot;</td><td>&quot;Strongly Agree&quot;</td><td>&quot;Somewhat Agree&quot;</td><td>&quot;Somewhat Agree&quot;</td><td>&quot;Somewhat Disagree&quot;</td><td>&quot;Neither Agree nor Disagree&quot;</td><td>&quot;Somewhat Agree&quot;</td><td>&quot;Strongly Disagree&quot;</td><td>&quot;Strongly Agree&quot;</td><td>&quot;Strongly Agree&quot;</td><td>&quot;Strongly Agree&quot;</td><td>&quot;Strongly Agree&quot;</td><td>&quot;Strongly Agree&quot;</td><td>&quot;Somewhat Agree&quot;</td><td>&quot;Somewhat Agree&quot;</td><td>&quot;Somewhat Agree&quot;</td><td>&quot;Somewhat Agree&quot;</td><td>&quot;Neither Agree nor Disagree&quot;</td><td>&quot;Somewhat Agree&quot;</td><td>&quot;Somewhat Agree&quot;</td><td>&quot;Somewhat Agree&quot;</td><td>&quot;Somewhat Agree&quot;</td><td>&quot;Strongly Disagree&quot;</td><td>&quot;Neither Agree nor Disagree&quot;</td><td>&quot;Strongly Agree&quot;</td><td>&quot;Strongly Disagree&quot;</td><td>&quot;Somewhat Agree&quot;</td><td>&quot;Somewhat Agree&quot;</td><td>&quot;Neither Agree nor Disagree&quot;</td><td>&quot;Somewhat Agree&quot;</td><td>&quot;Somewhat Agree&quot;</td><td>&quot;Somewhat Agree&quot;</td><td>&quot;Somewhat Agree&quot;</td><td>&quot;Strongly Agree&quot;</td><td>&quot;Somewhat Disagree&quot;</td><td>&quot;Somewhat Agree&quot;</td></tr></tbody></table></div>"
      ],
      "text/plain": [
       "shape: (5, 45)\n",
       "┌─────┬──────────┬─────────────────┬─────────────────┬───┬────────────────┬──────────┬────────────────┬────────────────┐\n",
       "│     ┆ F1       ┆ F5              ┆ F2              ┆ … ┆ F4.4           ┆ F5.7     ┆ F3.5           ┆ F2.11          │\n",
       "│ --- ┆ ---      ┆ ---             ┆ ---             ┆   ┆ ---            ┆ ---      ┆ ---            ┆ ---            │\n",
       "│ i64 ┆ str      ┆ str             ┆ str             ┆   ┆ str            ┆ str      ┆ str            ┆ str            │\n",
       "╞═════╪══════════╪═════════════════╪═════════════════╪═══╪════════════════╪══════════╪════════════════╪════════════════╡\n",
       "│ 1   ┆ Somewhat ┆ Somewhat        ┆ Somewhat Agree  ┆ … ┆ Somewhat Agree ┆ Somewhat ┆ Somewhat Agree ┆ Somewhat Agree │\n",
       "│     ┆ Agree    ┆ Disagree        ┆                 ┆   ┆                ┆ Agree    ┆                ┆                │\n",
       "│ 2   ┆ Somewhat ┆ Somewhat        ┆ Somewhat Agree  ┆ … ┆ Neither Agree  ┆ Somewhat ┆ Neither Agree  ┆ Somewhat Agree │\n",
       "│     ┆ Agree    ┆ Disagree        ┆                 ┆   ┆ nor Disagree   ┆ Agree    ┆ nor Disagree   ┆                │\n",
       "│ 3   ┆ Strongly ┆ Neither Agree   ┆ Somewhat Agree  ┆ … ┆ Somewhat Agree ┆ Strongly ┆ Strongly       ┆ Somewhat Agree │\n",
       "│     ┆ Agree    ┆ nor Disagree    ┆                 ┆   ┆                ┆ Agree    ┆ Disagree       ┆                │\n",
       "│ 4   ┆ Somewhat ┆ Somewhat Agree  ┆ Strongly Agree  ┆ … ┆ Neither Agree  ┆ Somewhat ┆ Somewhat       ┆ Somewhat Agree │\n",
       "│     ┆ Agree    ┆                 ┆                 ┆   ┆ nor Disagree   ┆ Agree    ┆ Disagree       ┆                │\n",
       "│ 5   ┆ Strongly ┆ Strongly        ┆ Neither Agree   ┆ … ┆ Somewhat Agree ┆ Strongly ┆ Somewhat       ┆ Somewhat Agree │\n",
       "│     ┆ Agree    ┆ Disagree        ┆ nor Disagree    ┆   ┆                ┆ Agree    ┆ Disagree       ┆                │\n",
       "└─────┴──────────┴─────────────────┴─────────────────┴───┴────────────────┴──────────┴────────────────┴────────────────┘"
      ]
     },
     "execution_count": 22,
     "metadata": {},
     "output_type": "execute_result"
    }
   ],
   "source": [
    "# Health Survey Data Managment\n",
    "\n",
    "(survey :=\n",
    " pl.read_csv('./data/health_survey.csv',\n",
    "            )\n",
    ").head()"
   ]
  },
  {
   "cell_type": "code",
   "execution_count": 8,
   "id": "1e64c11f-b506-4971-bdaf-f00f4acb0b45",
   "metadata": {},
   "outputs": [
    {
     "ename": "ColumnNotFoundError",
     "evalue": "unable to find column \"Column Name\"; valid columns: [\"Question\", \"Construct\", \"Question # on Qualtrics Survey\", \"Needs Reverse Coding?\", \"Column Name\\r\\\"In the future\", \" I plan to participate in a community service organization\\\"\", \"1\", \"1_duplicated_0\", \"No\", \"F1\\rIndividuals are responsible for their own misforturnes\", \"5\", \"2\", \"Yes\", \"F5\\r\\\"When tryng to understand the position of others\", \" I try to palce myself in their position\\\"\", \"2_duplicated_0\", \"3\", \"No_duplicated_0\", \"F2\\rI plan to become involved in my community \", \"1_duplicated_1\", \"4\", \"No_duplicated_1\", \"F1.1\\rI can communicate well with others\", \"2_duplicated_1\", \"5_duplicated_0\", \"No_duplicated_2\", \"F2.1\\rIt is hard for a group to function effectively when the people involved come from very diverse backgrounds\", \"6\", \"6_duplicated_0\", \"Yes_duplicated_0\", \"F6\\rI feel that I can make a difference in the world\", \"4_duplicated_0\", \"7\", \"No_duplicated_3\", \"F4\\rI am knowledgable of the issues facing the world\", \"3_duplicated_0\", \"8\", \"No_duplicated_4\", \"F3\\rWe need to institute reforms within the current system to change our communities\", \"5_duplicated_1\", \"9\", \"No_duplicated_5\", \"F5.1\\rI plan to help others who are in difficulty\", \"1_duplicated_2\", \"10\", \"No_duplicated_6\", \"F1.2\\rI try to place myself in the place of others in trying to assess their current situation\", \"2_duplicated_2\", \"11\", \"No_duplicated_7\", \"F2.2\\rCultural diversity within a group makes the group more interesting and effective\", \"6_duplicated_1\", \"12\", \"No_duplicated_8\", \"F6.1\\rI tend to solve problems by talking them out \", \"2_duplicated_3\", \"13\", \"No_duplicated_9\", \"F2.3\\rI am a better follower than a leader\", \"4_duplicated_1\", \"14\", \"Yes_duplicated_1\", \"F4.1\\rI can listen to other people's opinions\", \"2_duplicated_4\", \"15\", \"No_duplicated_10\", \"F2.4\\rWe need to look no further than the individual in assessing his/her problems\", \"5_duplicated_2\", \"16\", \"Yes_duplicated_2\", \"F5.2\\rI can work cooperatively with a group of people\", \"2_duplicated_5\", \"17\", \"No_duplicated_11\", \"F2.5\\rI enjoy meeting people who come from backgrounds very different than my own\", \"6_duplicated_2\", \"18\", \"No_duplicated_12\", \"F6.2\\rI plan to do some volunteer work\", \"1_duplicated_3\", \"19\", \"No_duplicated_13\", \"F1.3\\rI can easily get along with people\", \"2_duplicated_6\", \"20\", \"No_duplicated_14\", \"F2.6\\rWe need to change people's attitudes in order to solve social problems\", \"5_duplicated_3\", \"21\", \"No_duplicated_15\", \"F5.3\\rI am a good leader\", \"4_duplicated_2\", \"22\", \"No_duplicated_16\", \"F4.2\\rI find it easy to make friends\", \"2_duplicated_7\", \"23\", \"No_duplicated_17\", \"F2.7\\rI am aware of the events happening in my local community\", \"3_duplicated_1\", \"24\", \"No_duplicated_18\", \"F3.1\\rI can think logically in solving problems\", \"2_duplicated_8\", \"25\", \"No_duplicated_19\", \"F2.8\\r\\\"In order for problems to be solved\", \" we need to change public policy\\\"\", \"5_duplicated_4\", \"26\", \"No_duplicated_20\", \"F5.4\\rI understand the issues facing this nation\", \"3_duplicated_2\", \"27\", \"No_duplicated_21\", \"F3.2\\rI plan to become involved in programs to help clean up the environment\", \"1_duplicated_4\", \"28\", \"No_duplicated_22\", \"F1.4\\rI am aware of current events\", \"3_duplicated_3\", \"29\", \"No_duplicated_23\", \"F3.3\\rI plan to become an active member of my community\", \"1_duplicated_5\", \"30\", \"No_duplicated_24\", \"F1.5\\rPeople are poor because they choose to be poor\", \"5_duplicated_5\", \"31\", \"Yes_duplicated_3\", \"F5.5\\rI find it difficult to relate to people from a different race or culture\", \"6_duplicated_3\", \"32\", \"Yes_duplicated_4\", \"F6.3\\rI am committed to making a positive difference\", \"1_duplicated_6\", \"33\", \"No_duplicated_25\", \"F1.6\\rI don't understand why some people are poor when there are boundless opportunities available to them\", \"5_duplicated_6\", \"34\", \"Yes_duplicated_5\", \"F5.6\\rI try to find effective ways of solving problems\", \"2_duplicated_9\", \"35\", \"No_duplicated_26\", \"F2.9\\rI understand the issues facing my city's community\", \"3_duplicated_4\", \"36\", \"No_duplicated_27\", \"F3.4\\rI would rather have sombody else take the lead in fomrulating a solution\", \"4_duplicated_3\", \"37\", \"Yes_duplicated_6\", \"F4.3\\rI can think analytically in solving problems\", \"2_duplicated_10\", \"38\", \"No_duplicated_28\", \"F2.10\\rI plan to participate in a community action program\", \"1_duplicated_7\", \"39\", \"No_duplicated_29\", \"F1.7\\rI prefer the company of people who are very similar to me in background and expressions\", \"6_duplicated_4\", \"40\", \"Yes_duplicated_7\", \"F6.4\\rI have the ability to lead a group of people\", \"4_duplicated_4\", \"41\", \"No_duplicated_30\", \"F4.4\\rIt is important to me that equal opportunity be available to all people\", \"5_duplicated_7\", \"42\", \"No_duplicated_31\", \"F5.7\\rI plan to be involved in the political process\", \"3_duplicated_5\", \"43\", \"No_duplicated_32\", \"F3.5\\rI can successfully resolve conflicts with others \", \"2_duplicated_11\", \"44\", \"No_duplicated_33\", \"F2.11\"]",
     "output_type": "error",
     "traceback": [
      "\u001b[31m---------------------------------------------------------------------------\u001b[39m",
      "\u001b[31mColumnNotFoundError\u001b[39m                       Traceback (most recent call last)",
      "\u001b[36mCell\u001b[39m\u001b[36m \u001b[39m\u001b[32mIn[8]\u001b[39m\u001b[32m, line 2\u001b[39m\n\u001b[32m      1\u001b[39m (reverse := \n\u001b[32m----> \u001b[39m\u001b[32m2\u001b[39m     \u001b[43mpl\u001b[49m\u001b[43m.\u001b[49m\u001b[43mread_csv\u001b[49m\u001b[43m(\u001b[49m\u001b[33;43m'\u001b[39;49m\u001b[33;43m./data/ReverseCodingItems.csv\u001b[39;49m\u001b[33;43m'\u001b[39;49m\u001b[43m,\u001b[49m\n\u001b[32m      3\u001b[39m \u001b[43m             \u001b[49m\u001b[43mcolumns\u001b[49m\u001b[43m=\u001b[49m\u001b[43m[\u001b[49m\u001b[33;43m\"\u001b[39;49m\u001b[33;43mColumn Name\u001b[39;49m\u001b[33;43m\"\u001b[39;49m\u001b[43m,\u001b[49m\u001b[43m \u001b[49m\u001b[33;43m\"\u001b[39;49m\u001b[33;43mNeeds Reverse Coding?\u001b[39;49m\u001b[33;43m\"\u001b[39;49m\u001b[43m]\u001b[49m\n\u001b[32m      4\u001b[39m \u001b[43m            \u001b[49m\u001b[43m)\u001b[49m\n\u001b[32m      5\u001b[39m )         \n",
      "\u001b[36mFile \u001b[39m\u001b[32m~\\AppData\\Local\\anaconda3\\envs\\polars\\Lib\\site-packages\\polars\\_utils\\deprecation.py:128\u001b[39m, in \u001b[36mdeprecate_renamed_parameter.<locals>.decorate.<locals>.wrapper\u001b[39m\u001b[34m(*args, **kwargs)\u001b[39m\n\u001b[32m    123\u001b[39m \u001b[38;5;129m@wraps\u001b[39m(function)\n\u001b[32m    124\u001b[39m \u001b[38;5;28;01mdef\u001b[39;00m\u001b[38;5;250m \u001b[39m\u001b[34mwrapper\u001b[39m(*args: P.args, **kwargs: P.kwargs) -> T:\n\u001b[32m    125\u001b[39m     _rename_keyword_argument(\n\u001b[32m    126\u001b[39m         old_name, new_name, kwargs, function.\u001b[34m__qualname__\u001b[39m, version\n\u001b[32m    127\u001b[39m     )\n\u001b[32m--> \u001b[39m\u001b[32m128\u001b[39m     \u001b[38;5;28;01mreturn\u001b[39;00m \u001b[43mfunction\u001b[49m\u001b[43m(\u001b[49m\u001b[43m*\u001b[49m\u001b[43margs\u001b[49m\u001b[43m,\u001b[49m\u001b[43m \u001b[49m\u001b[43m*\u001b[49m\u001b[43m*\u001b[49m\u001b[43mkwargs\u001b[49m\u001b[43m)\u001b[49m\n",
      "\u001b[36mFile \u001b[39m\u001b[32m~\\AppData\\Local\\anaconda3\\envs\\polars\\Lib\\site-packages\\polars\\_utils\\deprecation.py:128\u001b[39m, in \u001b[36mdeprecate_renamed_parameter.<locals>.decorate.<locals>.wrapper\u001b[39m\u001b[34m(*args, **kwargs)\u001b[39m\n\u001b[32m    123\u001b[39m \u001b[38;5;129m@wraps\u001b[39m(function)\n\u001b[32m    124\u001b[39m \u001b[38;5;28;01mdef\u001b[39;00m\u001b[38;5;250m \u001b[39m\u001b[34mwrapper\u001b[39m(*args: P.args, **kwargs: P.kwargs) -> T:\n\u001b[32m    125\u001b[39m     _rename_keyword_argument(\n\u001b[32m    126\u001b[39m         old_name, new_name, kwargs, function.\u001b[34m__qualname__\u001b[39m, version\n\u001b[32m    127\u001b[39m     )\n\u001b[32m--> \u001b[39m\u001b[32m128\u001b[39m     \u001b[38;5;28;01mreturn\u001b[39;00m \u001b[43mfunction\u001b[49m\u001b[43m(\u001b[49m\u001b[43m*\u001b[49m\u001b[43margs\u001b[49m\u001b[43m,\u001b[49m\u001b[43m \u001b[49m\u001b[43m*\u001b[49m\u001b[43m*\u001b[49m\u001b[43mkwargs\u001b[49m\u001b[43m)\u001b[49m\n",
      "\u001b[36mFile \u001b[39m\u001b[32m~\\AppData\\Local\\anaconda3\\envs\\polars\\Lib\\site-packages\\polars\\_utils\\deprecation.py:128\u001b[39m, in \u001b[36mdeprecate_renamed_parameter.<locals>.decorate.<locals>.wrapper\u001b[39m\u001b[34m(*args, **kwargs)\u001b[39m\n\u001b[32m    123\u001b[39m \u001b[38;5;129m@wraps\u001b[39m(function)\n\u001b[32m    124\u001b[39m \u001b[38;5;28;01mdef\u001b[39;00m\u001b[38;5;250m \u001b[39m\u001b[34mwrapper\u001b[39m(*args: P.args, **kwargs: P.kwargs) -> T:\n\u001b[32m    125\u001b[39m     _rename_keyword_argument(\n\u001b[32m    126\u001b[39m         old_name, new_name, kwargs, function.\u001b[34m__qualname__\u001b[39m, version\n\u001b[32m    127\u001b[39m     )\n\u001b[32m--> \u001b[39m\u001b[32m128\u001b[39m     \u001b[38;5;28;01mreturn\u001b[39;00m \u001b[43mfunction\u001b[49m\u001b[43m(\u001b[49m\u001b[43m*\u001b[49m\u001b[43margs\u001b[49m\u001b[43m,\u001b[49m\u001b[43m \u001b[49m\u001b[43m*\u001b[49m\u001b[43m*\u001b[49m\u001b[43mkwargs\u001b[49m\u001b[43m)\u001b[49m\n",
      "\u001b[36mFile \u001b[39m\u001b[32m~\\AppData\\Local\\anaconda3\\envs\\polars\\Lib\\site-packages\\polars\\io\\csv\\functions.py:549\u001b[39m, in \u001b[36mread_csv\u001b[39m\u001b[34m(source, has_header, columns, new_columns, separator, comment_prefix, quote_char, skip_rows, skip_lines, schema, schema_overrides, null_values, missing_utf8_is_empty_string, ignore_errors, try_parse_dates, n_threads, infer_schema, infer_schema_length, batch_size, n_rows, encoding, low_memory, rechunk, use_pyarrow, storage_options, skip_rows_after_header, row_index_name, row_index_offset, sample_size, eol_char, raise_if_empty, truncate_ragged_lines, decimal_comma, glob)\u001b[39m\n\u001b[32m    541\u001b[39m \u001b[38;5;28;01melse\u001b[39;00m:\n\u001b[32m    542\u001b[39m     \u001b[38;5;28;01mwith\u001b[39;00m prepare_file_arg(\n\u001b[32m    543\u001b[39m         source,\n\u001b[32m    544\u001b[39m         encoding=encoding,\n\u001b[32m   (...)\u001b[39m\u001b[32m    547\u001b[39m         storage_options=storage_options,\n\u001b[32m    548\u001b[39m     ) \u001b[38;5;28;01mas\u001b[39;00m data:\n\u001b[32m--> \u001b[39m\u001b[32m549\u001b[39m         df = \u001b[43m_read_csv_impl\u001b[49m\u001b[43m(\u001b[49m\n\u001b[32m    550\u001b[39m \u001b[43m            \u001b[49m\u001b[43mdata\u001b[49m\u001b[43m,\u001b[49m\n\u001b[32m    551\u001b[39m \u001b[43m            \u001b[49m\u001b[43mhas_header\u001b[49m\u001b[43m=\u001b[49m\u001b[43mhas_header\u001b[49m\u001b[43m,\u001b[49m\n\u001b[32m    552\u001b[39m \u001b[43m            \u001b[49m\u001b[43mcolumns\u001b[49m\u001b[43m=\u001b[49m\u001b[43mcolumns\u001b[49m\u001b[43m \u001b[49m\u001b[38;5;28;43;01mif\u001b[39;49;00m\u001b[43m \u001b[49m\u001b[43mcolumns\u001b[49m\u001b[43m \u001b[49m\u001b[38;5;28;43;01melse\u001b[39;49;00m\u001b[43m \u001b[49m\u001b[43mprojection\u001b[49m\u001b[43m,\u001b[49m\n\u001b[32m    553\u001b[39m \u001b[43m            \u001b[49m\u001b[43mseparator\u001b[49m\u001b[43m=\u001b[49m\u001b[43mseparator\u001b[49m\u001b[43m,\u001b[49m\n\u001b[32m    554\u001b[39m \u001b[43m            \u001b[49m\u001b[43mcomment_prefix\u001b[49m\u001b[43m=\u001b[49m\u001b[43mcomment_prefix\u001b[49m\u001b[43m,\u001b[49m\n\u001b[32m    555\u001b[39m \u001b[43m            \u001b[49m\u001b[43mquote_char\u001b[49m\u001b[43m=\u001b[49m\u001b[43mquote_char\u001b[49m\u001b[43m,\u001b[49m\n\u001b[32m    556\u001b[39m \u001b[43m            \u001b[49m\u001b[43mskip_rows\u001b[49m\u001b[43m=\u001b[49m\u001b[43mskip_rows\u001b[49m\u001b[43m,\u001b[49m\n\u001b[32m    557\u001b[39m \u001b[43m            \u001b[49m\u001b[43mskip_lines\u001b[49m\u001b[43m=\u001b[49m\u001b[43mskip_lines\u001b[49m\u001b[43m,\u001b[49m\n\u001b[32m    558\u001b[39m \u001b[43m            \u001b[49m\u001b[43mschema_overrides\u001b[49m\u001b[43m=\u001b[49m\u001b[43mschema_overrides\u001b[49m\u001b[43m,\u001b[49m\n\u001b[32m    559\u001b[39m \u001b[43m            \u001b[49m\u001b[43mschema\u001b[49m\u001b[43m=\u001b[49m\u001b[43mschema\u001b[49m\u001b[43m,\u001b[49m\n\u001b[32m    560\u001b[39m \u001b[43m            \u001b[49m\u001b[43mnull_values\u001b[49m\u001b[43m=\u001b[49m\u001b[43mnull_values\u001b[49m\u001b[43m,\u001b[49m\n\u001b[32m    561\u001b[39m \u001b[43m            \u001b[49m\u001b[43mmissing_utf8_is_empty_string\u001b[49m\u001b[43m=\u001b[49m\u001b[43mmissing_utf8_is_empty_string\u001b[49m\u001b[43m,\u001b[49m\n\u001b[32m    562\u001b[39m \u001b[43m            \u001b[49m\u001b[43mignore_errors\u001b[49m\u001b[43m=\u001b[49m\u001b[43mignore_errors\u001b[49m\u001b[43m,\u001b[49m\n\u001b[32m    563\u001b[39m \u001b[43m            \u001b[49m\u001b[43mtry_parse_dates\u001b[49m\u001b[43m=\u001b[49m\u001b[43mtry_parse_dates\u001b[49m\u001b[43m,\u001b[49m\n\u001b[32m    564\u001b[39m \u001b[43m            \u001b[49m\u001b[43mn_threads\u001b[49m\u001b[43m=\u001b[49m\u001b[43mn_threads\u001b[49m\u001b[43m,\u001b[49m\n\u001b[32m    565\u001b[39m \u001b[43m            \u001b[49m\u001b[43minfer_schema_length\u001b[49m\u001b[43m=\u001b[49m\u001b[43minfer_schema_length\u001b[49m\u001b[43m,\u001b[49m\n\u001b[32m    566\u001b[39m \u001b[43m            \u001b[49m\u001b[43mbatch_size\u001b[49m\u001b[43m=\u001b[49m\u001b[43mbatch_size\u001b[49m\u001b[43m,\u001b[49m\n\u001b[32m    567\u001b[39m \u001b[43m            \u001b[49m\u001b[43mn_rows\u001b[49m\u001b[43m=\u001b[49m\u001b[43mn_rows\u001b[49m\u001b[43m,\u001b[49m\n\u001b[32m    568\u001b[39m \u001b[43m            \u001b[49m\u001b[43mencoding\u001b[49m\u001b[43m=\u001b[49m\u001b[43mencoding\u001b[49m\u001b[43m \u001b[49m\u001b[38;5;28;43;01mif\u001b[39;49;00m\u001b[43m \u001b[49m\u001b[43mencoding\u001b[49m\u001b[43m \u001b[49m\u001b[43m==\u001b[49m\u001b[43m \u001b[49m\u001b[33;43m\"\u001b[39;49m\u001b[33;43mutf8-lossy\u001b[39;49m\u001b[33;43m\"\u001b[39;49m\u001b[43m \u001b[49m\u001b[38;5;28;43;01melse\u001b[39;49;00m\u001b[43m \u001b[49m\u001b[33;43m\"\u001b[39;49m\u001b[33;43mutf8\u001b[39;49m\u001b[33;43m\"\u001b[39;49m\u001b[43m,\u001b[49m\n\u001b[32m    569\u001b[39m \u001b[43m            \u001b[49m\u001b[43mlow_memory\u001b[49m\u001b[43m=\u001b[49m\u001b[43mlow_memory\u001b[49m\u001b[43m,\u001b[49m\n\u001b[32m    570\u001b[39m \u001b[43m            \u001b[49m\u001b[43mrechunk\u001b[49m\u001b[43m=\u001b[49m\u001b[43mrechunk\u001b[49m\u001b[43m,\u001b[49m\n\u001b[32m    571\u001b[39m \u001b[43m            \u001b[49m\u001b[43mskip_rows_after_header\u001b[49m\u001b[43m=\u001b[49m\u001b[43mskip_rows_after_header\u001b[49m\u001b[43m,\u001b[49m\n\u001b[32m    572\u001b[39m \u001b[43m            \u001b[49m\u001b[43mrow_index_name\u001b[49m\u001b[43m=\u001b[49m\u001b[43mrow_index_name\u001b[49m\u001b[43m,\u001b[49m\n\u001b[32m    573\u001b[39m \u001b[43m            \u001b[49m\u001b[43mrow_index_offset\u001b[49m\u001b[43m=\u001b[49m\u001b[43mrow_index_offset\u001b[49m\u001b[43m,\u001b[49m\n\u001b[32m    574\u001b[39m \u001b[43m            \u001b[49m\u001b[43meol_char\u001b[49m\u001b[43m=\u001b[49m\u001b[43meol_char\u001b[49m\u001b[43m,\u001b[49m\n\u001b[32m    575\u001b[39m \u001b[43m            \u001b[49m\u001b[43mraise_if_empty\u001b[49m\u001b[43m=\u001b[49m\u001b[43mraise_if_empty\u001b[49m\u001b[43m,\u001b[49m\n\u001b[32m    576\u001b[39m \u001b[43m            \u001b[49m\u001b[43mtruncate_ragged_lines\u001b[49m\u001b[43m=\u001b[49m\u001b[43mtruncate_ragged_lines\u001b[49m\u001b[43m,\u001b[49m\n\u001b[32m    577\u001b[39m \u001b[43m            \u001b[49m\u001b[43mdecimal_comma\u001b[49m\u001b[43m=\u001b[49m\u001b[43mdecimal_comma\u001b[49m\u001b[43m,\u001b[49m\n\u001b[32m    578\u001b[39m \u001b[43m            \u001b[49m\u001b[43mglob\u001b[49m\u001b[43m=\u001b[49m\u001b[43mglob\u001b[49m\u001b[43m,\u001b[49m\n\u001b[32m    579\u001b[39m \u001b[43m        \u001b[49m\u001b[43m)\u001b[49m\n\u001b[32m    581\u001b[39m \u001b[38;5;28;01mif\u001b[39;00m new_columns:\n\u001b[32m    582\u001b[39m     \u001b[38;5;28;01mreturn\u001b[39;00m _update_columns(df, new_columns)\n",
      "\u001b[36mFile \u001b[39m\u001b[32m~\\AppData\\Local\\anaconda3\\envs\\polars\\Lib\\site-packages\\polars\\io\\csv\\functions.py:697\u001b[39m, in \u001b[36m_read_csv_impl\u001b[39m\u001b[34m(source, has_header, columns, separator, comment_prefix, quote_char, skip_rows, skip_lines, schema, schema_overrides, null_values, missing_utf8_is_empty_string, ignore_errors, try_parse_dates, n_threads, infer_schema_length, batch_size, n_rows, encoding, low_memory, rechunk, skip_rows_after_header, row_index_name, row_index_offset, sample_size, eol_char, raise_if_empty, truncate_ragged_lines, decimal_comma, glob)\u001b[39m\n\u001b[32m    693\u001b[39m         \u001b[38;5;28;01mraise\u001b[39;00m \u001b[38;5;167;01mValueError\u001b[39;00m(msg)\n\u001b[32m    695\u001b[39m projection, columns = parse_columns_arg(columns)\n\u001b[32m--> \u001b[39m\u001b[32m697\u001b[39m pydf = \u001b[43mPyDataFrame\u001b[49m\u001b[43m.\u001b[49m\u001b[43mread_csv\u001b[49m\u001b[43m(\u001b[49m\n\u001b[32m    698\u001b[39m \u001b[43m    \u001b[49m\u001b[43msource\u001b[49m\u001b[43m,\u001b[49m\n\u001b[32m    699\u001b[39m \u001b[43m    \u001b[49m\u001b[43minfer_schema_length\u001b[49m\u001b[43m,\u001b[49m\n\u001b[32m    700\u001b[39m \u001b[43m    \u001b[49m\u001b[43mbatch_size\u001b[49m\u001b[43m,\u001b[49m\n\u001b[32m    701\u001b[39m \u001b[43m    \u001b[49m\u001b[43mhas_header\u001b[49m\u001b[43m,\u001b[49m\n\u001b[32m    702\u001b[39m \u001b[43m    \u001b[49m\u001b[43mignore_errors\u001b[49m\u001b[43m,\u001b[49m\n\u001b[32m    703\u001b[39m \u001b[43m    \u001b[49m\u001b[43mn_rows\u001b[49m\u001b[43m,\u001b[49m\n\u001b[32m    704\u001b[39m \u001b[43m    \u001b[49m\u001b[43mskip_rows\u001b[49m\u001b[43m,\u001b[49m\n\u001b[32m    705\u001b[39m \u001b[43m    \u001b[49m\u001b[43mskip_lines\u001b[49m\u001b[43m,\u001b[49m\n\u001b[32m    706\u001b[39m \u001b[43m    \u001b[49m\u001b[43mprojection\u001b[49m\u001b[43m,\u001b[49m\n\u001b[32m    707\u001b[39m \u001b[43m    \u001b[49m\u001b[43mseparator\u001b[49m\u001b[43m,\u001b[49m\n\u001b[32m    708\u001b[39m \u001b[43m    \u001b[49m\u001b[43mrechunk\u001b[49m\u001b[43m,\u001b[49m\n\u001b[32m    709\u001b[39m \u001b[43m    \u001b[49m\u001b[43mcolumns\u001b[49m\u001b[43m,\u001b[49m\n\u001b[32m    710\u001b[39m \u001b[43m    \u001b[49m\u001b[43mencoding\u001b[49m\u001b[43m,\u001b[49m\n\u001b[32m    711\u001b[39m \u001b[43m    \u001b[49m\u001b[43mn_threads\u001b[49m\u001b[43m,\u001b[49m\n\u001b[32m    712\u001b[39m \u001b[43m    \u001b[49m\u001b[43mpath\u001b[49m\u001b[43m,\u001b[49m\n\u001b[32m    713\u001b[39m \u001b[43m    \u001b[49m\u001b[43mdtype_list\u001b[49m\u001b[43m,\u001b[49m\n\u001b[32m    714\u001b[39m \u001b[43m    \u001b[49m\u001b[43mdtype_slice\u001b[49m\u001b[43m,\u001b[49m\n\u001b[32m    715\u001b[39m \u001b[43m    \u001b[49m\u001b[43mlow_memory\u001b[49m\u001b[43m,\u001b[49m\n\u001b[32m    716\u001b[39m \u001b[43m    \u001b[49m\u001b[43mcomment_prefix\u001b[49m\u001b[43m,\u001b[49m\n\u001b[32m    717\u001b[39m \u001b[43m    \u001b[49m\u001b[43mquote_char\u001b[49m\u001b[43m,\u001b[49m\n\u001b[32m    718\u001b[39m \u001b[43m    \u001b[49m\u001b[43mprocessed_null_values\u001b[49m\u001b[43m,\u001b[49m\n\u001b[32m    719\u001b[39m \u001b[43m    \u001b[49m\u001b[43mmissing_utf8_is_empty_string\u001b[49m\u001b[43m,\u001b[49m\n\u001b[32m    720\u001b[39m \u001b[43m    \u001b[49m\u001b[43mtry_parse_dates\u001b[49m\u001b[43m,\u001b[49m\n\u001b[32m    721\u001b[39m \u001b[43m    \u001b[49m\u001b[43mskip_rows_after_header\u001b[49m\u001b[43m,\u001b[49m\n\u001b[32m    722\u001b[39m \u001b[43m    \u001b[49m\u001b[43mparse_row_index_args\u001b[49m\u001b[43m(\u001b[49m\u001b[43mrow_index_name\u001b[49m\u001b[43m,\u001b[49m\u001b[43m \u001b[49m\u001b[43mrow_index_offset\u001b[49m\u001b[43m)\u001b[49m\u001b[43m,\u001b[49m\n\u001b[32m    723\u001b[39m \u001b[43m    \u001b[49m\u001b[43meol_char\u001b[49m\u001b[43m=\u001b[49m\u001b[43meol_char\u001b[49m\u001b[43m,\u001b[49m\n\u001b[32m    724\u001b[39m \u001b[43m    \u001b[49m\u001b[43mraise_if_empty\u001b[49m\u001b[43m=\u001b[49m\u001b[43mraise_if_empty\u001b[49m\u001b[43m,\u001b[49m\n\u001b[32m    725\u001b[39m \u001b[43m    \u001b[49m\u001b[43mtruncate_ragged_lines\u001b[49m\u001b[43m=\u001b[49m\u001b[43mtruncate_ragged_lines\u001b[49m\u001b[43m,\u001b[49m\n\u001b[32m    726\u001b[39m \u001b[43m    \u001b[49m\u001b[43mdecimal_comma\u001b[49m\u001b[43m=\u001b[49m\u001b[43mdecimal_comma\u001b[49m\u001b[43m,\u001b[49m\n\u001b[32m    727\u001b[39m \u001b[43m    \u001b[49m\u001b[43mschema\u001b[49m\u001b[43m=\u001b[49m\u001b[43mschema\u001b[49m\u001b[43m,\u001b[49m\n\u001b[32m    728\u001b[39m \u001b[43m\u001b[49m\u001b[43m)\u001b[49m\n\u001b[32m    729\u001b[39m \u001b[38;5;28;01mreturn\u001b[39;00m wrap_df(pydf)\n",
      "\u001b[31mColumnNotFoundError\u001b[39m: unable to find column \"Column Name\"; valid columns: [\"Question\", \"Construct\", \"Question # on Qualtrics Survey\", \"Needs Reverse Coding?\", \"Column Name\\r\\\"In the future\", \" I plan to participate in a community service organization\\\"\", \"1\", \"1_duplicated_0\", \"No\", \"F1\\rIndividuals are responsible for their own misforturnes\", \"5\", \"2\", \"Yes\", \"F5\\r\\\"When tryng to understand the position of others\", \" I try to palce myself in their position\\\"\", \"2_duplicated_0\", \"3\", \"No_duplicated_0\", \"F2\\rI plan to become involved in my community \", \"1_duplicated_1\", \"4\", \"No_duplicated_1\", \"F1.1\\rI can communicate well with others\", \"2_duplicated_1\", \"5_duplicated_0\", \"No_duplicated_2\", \"F2.1\\rIt is hard for a group to function effectively when the people involved come from very diverse backgrounds\", \"6\", \"6_duplicated_0\", \"Yes_duplicated_0\", \"F6\\rI feel that I can make a difference in the world\", \"4_duplicated_0\", \"7\", \"No_duplicated_3\", \"F4\\rI am knowledgable of the issues facing the world\", \"3_duplicated_0\", \"8\", \"No_duplicated_4\", \"F3\\rWe need to institute reforms within the current system to change our communities\", \"5_duplicated_1\", \"9\", \"No_duplicated_5\", \"F5.1\\rI plan to help others who are in difficulty\", \"1_duplicated_2\", \"10\", \"No_duplicated_6\", \"F1.2\\rI try to place myself in the place of others in trying to assess their current situation\", \"2_duplicated_2\", \"11\", \"No_duplicated_7\", \"F2.2\\rCultural diversity within a group makes the group more interesting and effective\", \"6_duplicated_1\", \"12\", \"No_duplicated_8\", \"F6.1\\rI tend to solve problems by talking them out \", \"2_duplicated_3\", \"13\", \"No_duplicated_9\", \"F2.3\\rI am a better follower than a leader\", \"4_duplicated_1\", \"14\", \"Yes_duplicated_1\", \"F4.1\\rI can listen to other people's opinions\", \"2_duplicated_4\", \"15\", \"No_duplicated_10\", \"F2.4\\rWe need to look no further than the individual in assessing his/her problems\", \"5_duplicated_2\", \"16\", \"Yes_duplicated_2\", \"F5.2\\rI can work cooperatively with a group of people\", \"2_duplicated_5\", \"17\", \"No_duplicated_11\", \"F2.5\\rI enjoy meeting people who come from backgrounds very different than my own\", \"6_duplicated_2\", \"18\", \"No_duplicated_12\", \"F6.2\\rI plan to do some volunteer work\", \"1_duplicated_3\", \"19\", \"No_duplicated_13\", \"F1.3\\rI can easily get along with people\", \"2_duplicated_6\", \"20\", \"No_duplicated_14\", \"F2.6\\rWe need to change people's attitudes in order to solve social problems\", \"5_duplicated_3\", \"21\", \"No_duplicated_15\", \"F5.3\\rI am a good leader\", \"4_duplicated_2\", \"22\", \"No_duplicated_16\", \"F4.2\\rI find it easy to make friends\", \"2_duplicated_7\", \"23\", \"No_duplicated_17\", \"F2.7\\rI am aware of the events happening in my local community\", \"3_duplicated_1\", \"24\", \"No_duplicated_18\", \"F3.1\\rI can think logically in solving problems\", \"2_duplicated_8\", \"25\", \"No_duplicated_19\", \"F2.8\\r\\\"In order for problems to be solved\", \" we need to change public policy\\\"\", \"5_duplicated_4\", \"26\", \"No_duplicated_20\", \"F5.4\\rI understand the issues facing this nation\", \"3_duplicated_2\", \"27\", \"No_duplicated_21\", \"F3.2\\rI plan to become involved in programs to help clean up the environment\", \"1_duplicated_4\", \"28\", \"No_duplicated_22\", \"F1.4\\rI am aware of current events\", \"3_duplicated_3\", \"29\", \"No_duplicated_23\", \"F3.3\\rI plan to become an active member of my community\", \"1_duplicated_5\", \"30\", \"No_duplicated_24\", \"F1.5\\rPeople are poor because they choose to be poor\", \"5_duplicated_5\", \"31\", \"Yes_duplicated_3\", \"F5.5\\rI find it difficult to relate to people from a different race or culture\", \"6_duplicated_3\", \"32\", \"Yes_duplicated_4\", \"F6.3\\rI am committed to making a positive difference\", \"1_duplicated_6\", \"33\", \"No_duplicated_25\", \"F1.6\\rI don't understand why some people are poor when there are boundless opportunities available to them\", \"5_duplicated_6\", \"34\", \"Yes_duplicated_5\", \"F5.6\\rI try to find effective ways of solving problems\", \"2_duplicated_9\", \"35\", \"No_duplicated_26\", \"F2.9\\rI understand the issues facing my city's community\", \"3_duplicated_4\", \"36\", \"No_duplicated_27\", \"F3.4\\rI would rather have sombody else take the lead in fomrulating a solution\", \"4_duplicated_3\", \"37\", \"Yes_duplicated_6\", \"F4.3\\rI can think analytically in solving problems\", \"2_duplicated_10\", \"38\", \"No_duplicated_28\", \"F2.10\\rI plan to participate in a community action program\", \"1_duplicated_7\", \"39\", \"No_duplicated_29\", \"F1.7\\rI prefer the company of people who are very similar to me in background and expressions\", \"6_duplicated_4\", \"40\", \"Yes_duplicated_7\", \"F6.4\\rI have the ability to lead a group of people\", \"4_duplicated_4\", \"41\", \"No_duplicated_30\", \"F4.4\\rIt is important to me that equal opportunity be available to all people\", \"5_duplicated_7\", \"42\", \"No_duplicated_31\", \"F5.7\\rI plan to be involved in the political process\", \"3_duplicated_5\", \"43\", \"No_duplicated_32\", \"F3.5\\rI can successfully resolve conflicts with others \", \"2_duplicated_11\", \"44\", \"No_duplicated_33\", \"F2.11\"]"
     ]
    }
   ],
   "source": [
    "(reverse := \n",
    "    pl.read_csv('./data/ReverseCodingItems.csv',\n",
    "             columns=[\"Column Name\", \"Needs Reverse Coding?\"]\n",
    "            )\n",
    ")         "
   ]
  },
  {
   "cell_type": "code",
   "execution_count": null,
   "id": "7779068f-d0fe-4457-ba69-e564cab353df",
   "metadata": {},
   "outputs": [],
   "source": []
  }
 ],
 "metadata": {
  "kernelspec": {
   "display_name": "Python 3 (ipykernel)",
   "language": "python",
   "name": "python3"
  },
  "language_info": {
   "codemirror_mode": {
    "name": "ipython",
    "version": 3
   },
   "file_extension": ".py",
   "mimetype": "text/x-python",
   "name": "python",
   "nbconvert_exporter": "python",
   "pygments_lexer": "ipython3",
   "version": "3.12.11"
  }
 },
 "nbformat": 4,
 "nbformat_minor": 5
}
